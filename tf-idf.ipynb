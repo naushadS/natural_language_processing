{
 "cells": [
  {
   "cell_type": "markdown",
   "metadata": {},
   "source": [
    "Taken ample reference from https://github.com/mbernico/CS570/blob/master/module_1/TFIDF.ipynb"
   ]
  },
  {
   "cell_type": "markdown",
   "metadata": {},
   "source": [
    "## Introduction  \n",
    "<b>tf-idf</b> or <b>TFIDF</b> is a numerical statistic used in information retrieval to signify how important a word is to a document in a collection or corpus.  \n",
    "The tf-idf value increases proportionally to the number of times a word appears in a document and is offset by the number of documents in  the corpus that contains the word, which helps to adjust for the fact that some words appear more frequently in general (for eg. stopwords such as the,and,etc)  \n",
    "In short, it can be thought of as a term-weighing scheme.  \n",
    "[Wiki Ref Article](https://en.wikipedia.org/wiki/Tf%E2%80%93idf)"
   ]
  },
  {
   "cell_type": "code",
   "execution_count": 140,
   "metadata": {},
   "outputs": [],
   "source": [
    "import pandas as pd\n",
    "import math"
   ]
  },
  {
   "cell_type": "code",
   "execution_count": 141,
   "metadata": {},
   "outputs": [],
   "source": [
    "# A widely used term in Natural Language Processing Field is a corpus; which is nothing but a collection of documents.\n",
    "docA = \"the cat sat on my face\"\n",
    "docB = \"the dog sat on my dog bed\""
   ]
  },
  {
   "cell_type": "markdown",
   "metadata": {},
   "source": [
    "### Tokenizing\n",
    "This is if not but one of the initial steps when we handle textual data in machine learning (Often referred to a 'Bag of Words' model to represent a document)  \n",
    "In the BOW model, each document is represented as a bag of words, not taking into account the ordering of the words(which may give out /hidden meaning)"
   ]
  },
  {
   "cell_type": "code",
   "execution_count": 142,
   "metadata": {},
   "outputs": [],
   "source": [
    "#lets first create a count vector\n",
    "bowA = docA.split() # ['the', 'cat', 'sat', 'on', 'my', 'face']\n",
    "bowB = docB.split() # ['the', 'dog', 'sat', 'on', 'my', 'bed']"
   ]
  },
  {
   "cell_type": "markdown",
   "metadata": {},
   "source": [
    "Once the documents are tokenized, we need to convert it into numbers.  \n",
    "A simple strategy would be to create a vector of all the occuring words in the corpus and for each document count how many times each word appears."
   ]
  },
  {
   "cell_type": "code",
   "execution_count": 143,
   "metadata": {},
   "outputs": [
    {
     "data": {
      "text/html": [
       "<div>\n",
       "<style scoped>\n",
       "    .dataframe tbody tr th:only-of-type {\n",
       "        vertical-align: middle;\n",
       "    }\n",
       "\n",
       "    .dataframe tbody tr th {\n",
       "        vertical-align: top;\n",
       "    }\n",
       "\n",
       "    .dataframe thead th {\n",
       "        text-align: right;\n",
       "    }\n",
       "</style>\n",
       "<table border=\"1\" class=\"dataframe\">\n",
       "  <thead>\n",
       "    <tr style=\"text-align: right;\">\n",
       "      <th></th>\n",
       "      <th>bed</th>\n",
       "      <th>cat</th>\n",
       "      <th>dog</th>\n",
       "      <th>face</th>\n",
       "      <th>my</th>\n",
       "      <th>on</th>\n",
       "      <th>sat</th>\n",
       "      <th>the</th>\n",
       "    </tr>\n",
       "  </thead>\n",
       "  <tbody>\n",
       "    <tr>\n",
       "      <th>0</th>\n",
       "      <td>0</td>\n",
       "      <td>1</td>\n",
       "      <td>0</td>\n",
       "      <td>1</td>\n",
       "      <td>1</td>\n",
       "      <td>1</td>\n",
       "      <td>1</td>\n",
       "      <td>1</td>\n",
       "    </tr>\n",
       "    <tr>\n",
       "      <th>1</th>\n",
       "      <td>1</td>\n",
       "      <td>0</td>\n",
       "      <td>2</td>\n",
       "      <td>0</td>\n",
       "      <td>1</td>\n",
       "      <td>1</td>\n",
       "      <td>1</td>\n",
       "      <td>1</td>\n",
       "    </tr>\n",
       "  </tbody>\n",
       "</table>\n",
       "</div>"
      ],
      "text/plain": [
       "   bed  cat  dog  face  my  on  sat  the\n",
       "0    0    1    0     1   1   1    1    1\n",
       "1    1    0    2     0   1   1    1    1"
      ]
     },
     "execution_count": 143,
     "metadata": {},
     "output_type": "execute_result"
    }
   ],
   "source": [
    "bowSet = set(bowA).union(set(bowB)) #{'bed', 'cat', 'dog', 'face', 'my', 'on', 'sat', 'the'} # uniquely occurring words in a corpus\n",
    "\n",
    "def countVectorizer(bow, bowSet):\n",
    "#     print(f\"bow {bow} bowSet {bowSet}\")\n",
    "    bowSetDict = dict.fromkeys(bowSet, 0) #{'on': 0, 'my': 0, 'sat': 0, 'face': 0, 'dog': 0, 'the': 0, 'cat': 0, 'bed': 0}\n",
    "    for word in bow:\n",
    "        bowSetDict[word] += 1\n",
    "    return bowSetDict\n",
    "\n",
    "cvA = countVectorizer(bowA, bowSet) #{'on': 1, 'my': 1, 'sat': 1, 'face': 1, 'dog': 0, 'the': 1, 'cat': 1, 'bed': 0}\n",
    "cvB = countVectorizer(bowB, bowSet) #{'on': 1, 'my': 1, 'sat': 1, 'face': 0, 'dog': 2, 'the': 1, 'cat': 0, 'bed': 1}\n",
    "\n",
    "pd.DataFrame([cvA,cvB])"
   ]
  },
  {
   "cell_type": "markdown",
   "metadata": {},
   "source": [
    "With few steps, we converted words into a linear algebra problem!  \n",
    "  \n",
    "The Problem however with this strategy is that words which are commonly used in a language (often called as stopwords which include the,a,of,etc) tend to overshadow the other rarely occuring words which on the other hand may reveal more about a document. inshort using this approach we end up with numbers that dont contain much information."
   ]
  },
  {
   "cell_type": "markdown",
   "metadata": {},
   "source": [
    "## TF-IDF  \n",
    "Rather than just counting, we can use the TF-IDF score of a word to rank its importance.  \n",
    "The tfidf score of a word, w, is:  \n",
    "  \n",
    "$$tf(w) * idf(w)$$  \n",
    "  \n",
    "Where tf(w) = (Number of times the word appears in a document) / (Total number of words in the document)  \n",
    "And where idf(w) = log(Number of documents / Number of documents that contain word w ).\n",
    "\n",
    "The log here is used to normalize the idf value in extreme situations by way of scaling.  \n",
    "for example: tf-idf for frequently occurring words : lets say : 100/100  = 1 , log(1) = 0  \n",
    "tf-idf for rarely occurring words : lets say : 100/1 = 100 (huge difference 1-100) = log(100) = 2"
   ]
  },
  {
   "cell_type": "code",
   "execution_count": 144,
   "metadata": {},
   "outputs": [],
   "source": [
    "def computeTF(cv, doc):\n",
    "    totalWords = len(doc)\n",
    "    tf = {}\n",
    "    for word,count in cv.items():\n",
    "        tf[word] = count / totalWords\n",
    "    return tf\n",
    "\n",
    "tfA = computeTF(cvA,bowA) #{'on': 0.14285714285714285, 'my': 0.14285714285714285,'sat': 0.14285714285714285,'face': 0.2857142857142857,'dog': 0.0,'the': 0.14285714285714285,'cat': 0.14285714285714285,'bed': 0.0}\n",
    "tfB = computeTF(cvB,bowB)"
   ]
  },
  {
   "cell_type": "code",
   "execution_count": 145,
   "metadata": {},
   "outputs": [],
   "source": [
    "#idf = log(total no. of docs/ no of docs where term is appearing)\n",
    "\n",
    "def computeIDF(bowSet,docList):\n",
    "    totalDocs = len(docList)\n",
    "    \n",
    "    bowSetDict = dict.fromkeys(bowSet, 0)\n",
    "    \n",
    "    for term in bowSet:\n",
    "        for doc in docList:\n",
    "            if term in doc:\n",
    "                bowSetDict[term] += 1\n",
    "    \n",
    "    for key, value in bowSetDict.items():\n",
    "        bowSetDict[key] = math.log(totalDocs / value)\n",
    "    \n",
    "    return bowSetDict\n",
    "\n",
    "idf = computeIDF(bowSet, [bowA,bowB]) #{'on': 0.0, 'my': 0.0, 'sat': 0.0, 'face': 0.6931471805599453, 'dog': 0.6931471805599453, 'the': 0.0, 'cat': 0.6931471805599453, 'bed': 0.6931471805599453}"
   ]
  },
  {
   "cell_type": "code",
   "execution_count": 146,
   "metadata": {},
   "outputs": [],
   "source": [
    "def computeTFIDF(tf, idf):\n",
    "    tfidf = {}\n",
    "    for key in tf.keys():\n",
    "        tfidf[key] = tf[key] * idf[key]\n",
    "    return tfidf\n",
    "\n",
    "tfidfA = computeTFIDF(tfA, idf)\n",
    "tfidfB = computeTFIDF(tfB, idf)"
   ]
  },
  {
   "cell_type": "code",
   "execution_count": 147,
   "metadata": {},
   "outputs": [
    {
     "data": {
      "text/html": [
       "<div>\n",
       "<style scoped>\n",
       "    .dataframe tbody tr th:only-of-type {\n",
       "        vertical-align: middle;\n",
       "    }\n",
       "\n",
       "    .dataframe tbody tr th {\n",
       "        vertical-align: top;\n",
       "    }\n",
       "\n",
       "    .dataframe thead th {\n",
       "        text-align: right;\n",
       "    }\n",
       "</style>\n",
       "<table border=\"1\" class=\"dataframe\">\n",
       "  <thead>\n",
       "    <tr style=\"text-align: right;\">\n",
       "      <th></th>\n",
       "      <th>bed</th>\n",
       "      <th>cat</th>\n",
       "      <th>dog</th>\n",
       "      <th>face</th>\n",
       "      <th>my</th>\n",
       "      <th>on</th>\n",
       "      <th>sat</th>\n",
       "      <th>the</th>\n",
       "    </tr>\n",
       "  </thead>\n",
       "  <tbody>\n",
       "    <tr>\n",
       "      <th>0</th>\n",
       "      <td>0.000000</td>\n",
       "      <td>0.115525</td>\n",
       "      <td>0.000000</td>\n",
       "      <td>0.115525</td>\n",
       "      <td>0.0</td>\n",
       "      <td>0.0</td>\n",
       "      <td>0.0</td>\n",
       "      <td>0.0</td>\n",
       "    </tr>\n",
       "    <tr>\n",
       "      <th>1</th>\n",
       "      <td>0.099021</td>\n",
       "      <td>0.000000</td>\n",
       "      <td>0.198042</td>\n",
       "      <td>0.000000</td>\n",
       "      <td>0.0</td>\n",
       "      <td>0.0</td>\n",
       "      <td>0.0</td>\n",
       "      <td>0.0</td>\n",
       "    </tr>\n",
       "  </tbody>\n",
       "</table>\n",
       "</div>"
      ],
      "text/plain": [
       "        bed       cat       dog      face   my   on  sat  the\n",
       "0  0.000000  0.115525  0.000000  0.115525  0.0  0.0  0.0  0.0\n",
       "1  0.099021  0.000000  0.198042  0.000000  0.0  0.0  0.0  0.0"
      ]
     },
     "execution_count": 147,
     "metadata": {},
     "output_type": "execute_result"
    }
   ],
   "source": [
    "pd.DataFrame([tfidfA,tfidfB])"
   ]
  },
  {
   "cell_type": "markdown",
   "metadata": {},
   "source": [
    "Notice how the tf-idf values for ['my','on','sat','the'] is 0, since this set of words appears in all of the documents under consideration; which implies that the word is not very informative."
   ]
  },
  {
   "cell_type": "markdown",
   "metadata": {},
   "source": [
    "### Calculating TF-IDF values using sklearn(library)  \n",
    "takes just 3 lines to computes the values  \n",
    "[Scikit-Learn's TdidfVectorizer](https://scikit-learn.org/stable/modules/generated/sklearn.feature_extraction.text.TfidfVectorizer.html)"
   ]
  },
  {
   "cell_type": "code",
   "execution_count": 148,
   "metadata": {},
   "outputs": [
    {
     "data": {
      "text/html": [
       "<div>\n",
       "<style scoped>\n",
       "    .dataframe tbody tr th:only-of-type {\n",
       "        vertical-align: middle;\n",
       "    }\n",
       "\n",
       "    .dataframe tbody tr th {\n",
       "        vertical-align: top;\n",
       "    }\n",
       "\n",
       "    .dataframe thead th {\n",
       "        text-align: right;\n",
       "    }\n",
       "</style>\n",
       "<table border=\"1\" class=\"dataframe\">\n",
       "  <thead>\n",
       "    <tr style=\"text-align: right;\">\n",
       "      <th></th>\n",
       "      <th>bed</th>\n",
       "      <th>cat</th>\n",
       "      <th>dog</th>\n",
       "      <th>face</th>\n",
       "      <th>my</th>\n",
       "      <th>on</th>\n",
       "      <th>sat</th>\n",
       "      <th>the</th>\n",
       "    </tr>\n",
       "  </thead>\n",
       "  <tbody>\n",
       "    <tr>\n",
       "      <th>0</th>\n",
       "      <td>0.000000</td>\n",
       "      <td>0.498446</td>\n",
       "      <td>0.000000</td>\n",
       "      <td>0.498446</td>\n",
       "      <td>0.354649</td>\n",
       "      <td>0.354649</td>\n",
       "      <td>0.354649</td>\n",
       "      <td>0.354649</td>\n",
       "    </tr>\n",
       "    <tr>\n",
       "      <th>1</th>\n",
       "      <td>0.377292</td>\n",
       "      <td>0.000000</td>\n",
       "      <td>0.754584</td>\n",
       "      <td>0.000000</td>\n",
       "      <td>0.268446</td>\n",
       "      <td>0.268446</td>\n",
       "      <td>0.268446</td>\n",
       "      <td>0.268446</td>\n",
       "    </tr>\n",
       "  </tbody>\n",
       "</table>\n",
       "</div>"
      ],
      "text/plain": [
       "        bed       cat       dog      face        my        on       sat  \\\n",
       "0  0.000000  0.498446  0.000000  0.498446  0.354649  0.354649  0.354649   \n",
       "1  0.377292  0.000000  0.754584  0.000000  0.268446  0.268446  0.268446   \n",
       "\n",
       "        the  \n",
       "0  0.354649  \n",
       "1  0.268446  "
      ]
     },
     "execution_count": 148,
     "metadata": {},
     "output_type": "execute_result"
    }
   ],
   "source": [
    "from sklearn.feature_extraction.text import TfidfVectorizer\n",
    "v = TfidfVectorizer()\n",
    "tfidf = v.fit_transform([docA,docB])\n",
    "pd.DataFrame(tfidf.toarray(),columns=v.get_feature_names()) # as default tfidf implementation returns csr (compressed sparse row) matrix, we need to convert it to array inorder to convert the result to a dataframe"
   ]
  }
 ],
 "metadata": {
  "kernelspec": {
   "display_name": "Python 3",
   "language": "python",
   "name": "python3"
  },
  "language_info": {
   "codemirror_mode": {
    "name": "ipython",
    "version": 3
   },
   "file_extension": ".py",
   "mimetype": "text/x-python",
   "name": "python",
   "nbconvert_exporter": "python",
   "pygments_lexer": "ipython3",
   "version": "3.7.3"
  }
 },
 "nbformat": 4,
 "nbformat_minor": 4
}
